{
 "cells": [
  {
   "cell_type": "markdown",
   "metadata": {},
   "source": [
    "# Data Science Tools and Techniques\n",
    "# Flow Control Exercise"
   ]
  },
  {
   "cell_type": "markdown",
   "metadata": {},
   "source": [
    "Perform the tasks below to demonstrate your understanding of flow control.  For reference, you may use the Python documentation on flow control:\n",
    "\n",
    "https://docs.python.org/3/tutorial/controlflow.html"
   ]
  },
  {
   "cell_type": "markdown",
   "metadata": {},
   "source": [
    "In the space below, write and execute an if statement that will check to see if an integer is greater than 0.  If the integer is greater than 0, print \"I heart data science!!\"  If the integer is less than or equal to 0, print \"Bye Felicia!\""
   ]
  },
  {
   "cell_type": "code",
   "execution_count": 3,
   "metadata": {},
   "outputs": [
    {
     "name": "stdout",
     "output_type": "stream",
     "text": [
      "Bye Felicia!\n"
     ]
    }
   ],
   "source": [
    "# If statement\n",
    "x = -1\n",
    "if x > 0:\n",
    "    check_int_str = \"I heart data science!!\"\n",
    "else:\n",
    "    check_int_str = \"Bye Felicia!\"\n",
    "print (check_int_str)"
   ]
  },
  {
   "cell_type": "markdown",
   "metadata": {},
   "source": [
    "While loops will iterate until a condition is false.\n",
    "\n",
    "in pseudocode:\n",
    "\n",
    "while x is true:\n",
    "    do y\n",
    "\n",
    "In the space below, construct a while loop that will print the value of i starting at 0, until i==100."
   ]
  },
  {
   "cell_type": "code",
   "execution_count": 20,
   "metadata": {},
   "outputs": [
    {
     "name": "stdout",
     "output_type": "stream",
     "text": [
      "i=0\n",
      "i=1\n",
      "i=2\n",
      "i=3\n",
      "i=4\n",
      "i=5\n",
      "i=6\n",
      "i=7\n",
      "i=8\n",
      "i=9\n",
      "i=10\n",
      "i=11\n",
      "i=12\n",
      "i=13\n",
      "i=14\n",
      "i=15\n",
      "i=16\n",
      "i=17\n",
      "i=18\n",
      "i=19\n",
      "i=20\n",
      "i=21\n",
      "i=22\n",
      "i=23\n",
      "i=24\n",
      "i=25\n",
      "i=26\n",
      "i=27\n",
      "i=28\n",
      "i=29\n",
      "i=30\n",
      "i=31\n",
      "i=32\n",
      "i=33\n",
      "i=34\n",
      "i=35\n",
      "i=36\n",
      "i=37\n",
      "i=38\n",
      "i=39\n",
      "i=40\n",
      "i=41\n",
      "i=42\n",
      "i=43\n",
      "i=44\n",
      "i=45\n",
      "i=46\n",
      "i=47\n",
      "i=48\n",
      "i=49\n",
      "i=50\n",
      "i=51\n",
      "i=52\n",
      "i=53\n",
      "i=54\n",
      "i=55\n",
      "i=56\n",
      "i=57\n",
      "i=58\n",
      "i=59\n",
      "i=60\n",
      "i=61\n",
      "i=62\n",
      "i=63\n",
      "i=64\n",
      "i=65\n",
      "i=66\n",
      "i=67\n",
      "i=68\n",
      "i=69\n",
      "i=70\n",
      "i=71\n",
      "i=72\n",
      "i=73\n",
      "i=74\n",
      "i=75\n",
      "i=76\n",
      "i=77\n",
      "i=78\n",
      "i=79\n",
      "i=80\n",
      "i=81\n",
      "i=82\n",
      "i=83\n",
      "i=84\n",
      "i=85\n",
      "i=86\n",
      "i=87\n",
      "i=88\n",
      "i=89\n",
      "i=90\n",
      "i=91\n",
      "i=92\n",
      "i=93\n",
      "i=94\n",
      "i=95\n",
      "i=96\n",
      "i=97\n",
      "i=98\n",
      "i=99\n"
     ]
    }
   ],
   "source": [
    "# While loop\n",
    "# Note: the total increments need to be added up to EXACTLY equal to 100 in order for the while loop to end;\n",
    "#  or this while loop will become an endless loop.\n",
    "#  Possible increment: 1, 2, 4, 5, 10, 20, 25, 50, 100, and many other decimal values\n",
    "i = 0\n",
    "increment = 1\n",
    "keep_run = True\n",
    "while keep_run==True:\n",
    "    print(\"i={0}\".format(i))\n",
    "    i += increment\n",
    "    if i==100:\n",
    "        keep_run = False\n",
    "        \n",
    "    # in case it becomes an endless loop\n",
    "    if i>=101 or i<=0 and increment<=0:\n",
    "        print(\"This becomes an endless loop with increment={0}\".format(increment))\n",
    "        keep_run = False        "
   ]
  },
  {
   "cell_type": "markdown",
   "metadata": {},
   "source": [
    "For loops will iterate over an iterable object (e.g., a list or a range).\n",
    "\n",
    "In pseudocode:\n",
    "\n",
    "iterable_object = [0,1,2,4,5,7,8,90]\n",
    "for i in iterable_object:\n",
    "    print(i + 6)\n",
    "\n",
    "In the space below, construct a for loop that will calculate and print the product of i and a constant, for a list consisting of 20 integers."
   ]
  },
  {
   "cell_type": "code",
   "execution_count": 31,
   "metadata": {},
   "outputs": [
    {
     "name": "stdout",
     "output_type": "stream",
     "text": [
      "ints_list is a <class 'list'> and has 20 integers of [1, 3, 5, 7, 9, 11, 13, 15, 17, 19, 21, 23, 25, 27, 29, 31, 33, 35, 37, 39]\n",
      "Product of i=1 and const=3 is 3\n",
      "Product of i=3 and const=3 is 9\n",
      "Product of i=5 and const=3 is 15\n",
      "Product of i=7 and const=3 is 21\n",
      "Product of i=9 and const=3 is 27\n",
      "Product of i=11 and const=3 is 33\n",
      "Product of i=13 and const=3 is 39\n",
      "Product of i=15 and const=3 is 45\n",
      "Product of i=17 and const=3 is 51\n",
      "Product of i=19 and const=3 is 57\n",
      "Product of i=21 and const=3 is 63\n",
      "Product of i=23 and const=3 is 69\n",
      "Product of i=25 and const=3 is 75\n",
      "Product of i=27 and const=3 is 81\n",
      "Product of i=29 and const=3 is 87\n",
      "Product of i=31 and const=3 is 93\n",
      "Product of i=33 and const=3 is 99\n",
      "Product of i=35 and const=3 is 105\n",
      "Product of i=37 and const=3 is 111\n",
      "Product of i=39 and const=3 is 117\n"
     ]
    }
   ],
   "source": [
    "# Loop over an iterable object (e.g., a list or a range)\n",
    "x = 0\n",
    "ints_list = [ i for i in range(1,41,2) ]\n",
    "print(\"ints_list is a\", type(ints_list), \"and has {0} integers of\".format(len(ints_list)), ints_list)\n",
    "const = 3  # a constant\n",
    "for i in ints_list:\n",
    "    x = i*const\n",
    "    print (\"Product of i={0} and const={1} is {2}\".format(i, const, x))"
   ]
  },
  {
   "cell_type": "markdown",
   "metadata": {},
   "source": [
    "### Prime Number\n",
    "\n",
    "A prime number is any integer greater than 1 that is only evenly divisible by itself and 1.  Wilson's Theorem can be used to determine primality:\n",
    "\n",
    "**Wilson's Theorem** states that:\n",
    "\n",
    "if ((n-1)!+1)%n=0, then n is a prime number.  The % symbol refers to the modulo operation, which is the remainder in division.  For example, 7/3 = 2 remainder 1, thus 7%3 = 1.  The ! symbol refers to the factorial operation, and can be invoked using the math library:\n",
    "\n",
    "import math\n",
    "n! = math.factorial(n)\n",
    "\n",
    "Using this information, in the space below, construct a for loop that will determine the primality of all integers in the following list:\n",
    "\n",
    "test_integers = [2, 3, 4, 5, 6, 7, 8, 9, 10, 11, 12, 13, 14, 15]\n",
    "\n",
    "The loop should print the number from the test_integers list if that integer is prime."
   ]
  },
  {
   "cell_type": "code",
   "execution_count": 34,
   "metadata": {},
   "outputs": [
    {
     "name": "stdout",
     "output_type": "stream",
     "text": [
      "number 2 is a prime number.\n",
      "number 3 is a prime number.\n",
      "number 5 is a prime number.\n",
      "number 7 is a prime number.\n",
      "number 11 is a prime number.\n",
      "number 13 is a prime number.\n"
     ]
    }
   ],
   "source": [
    "import math\n",
    "test_integers = [2, 3, 4, 5, 6, 7, 8, 9, 10, 11, 12, 13, 14, 15]\n",
    "for number in test_integers:\n",
    "    if(math.factorial(number-1)+1)%number == 0:\n",
    "        print(\"number {0} is a prime number.\".format(number))\n",
    "    #else:\n",
    "    #    print(\"number {0} is not a prime number.\".format(number))        "
   ]
  },
  {
   "cell_type": "code",
   "execution_count": null,
   "metadata": {},
   "outputs": [],
   "source": []
  }
 ],
 "metadata": {
  "kernelspec": {
   "display_name": "Python 3",
   "language": "python",
   "name": "python3"
  },
  "language_info": {
   "codemirror_mode": {
    "name": "ipython",
    "version": 3
   },
   "file_extension": ".py",
   "mimetype": "text/x-python",
   "name": "python",
   "nbconvert_exporter": "python",
   "pygments_lexer": "ipython3",
   "version": "3.8.3"
  }
 },
 "nbformat": 4,
 "nbformat_minor": 4
}
