{
 "cells": [
  {
   "cell_type": "markdown",
   "metadata": {},
   "source": [
    "# Data Science Tools and Techniques\n",
    "# Flow Control Exercise"
   ]
  },
  {
   "cell_type": "markdown",
   "metadata": {},
   "source": [
    "Perform the tasks below to demonstrate your understanding of flow control.  For reference, you may use the Python documentation on flow control:\n",
    "\n",
    "https://docs.python.org/3/tutorial/controlflow.html"
   ]
  },
  {
   "cell_type": "markdown",
   "metadata": {},
   "source": [
    "In the space below, write and execute an if statement that will check to see if an integer is greater than 0.  If the integer is greater than 0, print \"I heart data science!!\"  If the integer is less than or equal to 0, print \"Bye Felicia!\""
   ]
  },
  {
   "cell_type": "code",
   "execution_count": null,
   "metadata": {},
   "outputs": [],
   "source": [
    "# If statement\n",
    "x = 5\n",
    "if x > 0:\n",
    "    check_str = \"I heart data science!!\"\n",
    "else:\n",
    "    check_str = \"Bye Felicia!\"\n",
    "print (check_str)"
   ]
  },
  {
   "cell_type": "markdown",
   "metadata": {},
   "source": [
    "While loops will iterate until a condition is false.\n",
    "\n",
    "in pseudocode:\n",
    "\n",
    "while x is true:\n",
    "    do y\n",
    "\n",
    "In the space below, construct a while loop that will print the value of i starting at 0, until i==100."
   ]
  },
  {
   "cell_type": "code",
   "execution_count": 2,
   "metadata": {},
   "outputs": [
    {
     "name": "stdout",
     "output_type": "stream",
     "text": [
      "i=10\n",
      "i=20\n",
      "i=30\n",
      "i=40\n",
      "i=50\n",
      "i=60\n",
      "i=70\n",
      "i=80\n",
      "i=90\n"
     ]
    }
   ],
   "source": [
    "# While loop\n",
    "i = 0\n",
    "keep_run = True\n",
    "while keep_run==True:\n",
    "    i += 10\n",
    "    if i==100:\n",
    "        keep_run = False\n",
    "    else:\n",
    "        print(\"i={0}\".format(i))"
   ]
  },
  {
   "cell_type": "markdown",
   "metadata": {},
   "source": [
    "For loops will iterate over an iterable object (e.g., a list or a range).\n",
    "\n",
    "In pseudocode:\n",
    "\n",
    "iterable_object = [0,1,2,4,5,7,8,90]\n",
    "for i in iterable_object:\n",
    "    print(i + 6)\n",
    "\n",
    "In the space below, construct a for loop that will calculate and print the product of i and a constant, for a list consisting of 20 integers."
   ]
  },
  {
   "cell_type": "code",
   "execution_count": 3,
   "metadata": {},
   "outputs": [
    {
     "name": "stdout",
     "output_type": "stream",
     "text": [
      "ints_list =  [0, 1, 2, 3, 4, 5, 6, 7, 8, 9, 10, 11, 12, 13, 14, 15, 16, 17, 18, 19] is a <class 'list'>\n",
      "Product of i=0 and const=3 is 0\n",
      "Product of i=1 and const=3 is 3\n",
      "Product of i=2 and const=3 is 6\n",
      "Product of i=3 and const=3 is 9\n",
      "Product of i=4 and const=3 is 12\n",
      "Product of i=5 and const=3 is 15\n",
      "Product of i=6 and const=3 is 18\n",
      "Product of i=7 and const=3 is 21\n",
      "Product of i=8 and const=3 is 24\n",
      "Product of i=9 and const=3 is 27\n",
      "Product of i=10 and const=3 is 30\n",
      "Product of i=11 and const=3 is 33\n",
      "Product of i=12 and const=3 is 36\n",
      "Product of i=13 and const=3 is 39\n",
      "Product of i=14 and const=3 is 42\n",
      "Product of i=15 and const=3 is 45\n",
      "Product of i=16 and const=3 is 48\n",
      "Product of i=17 and const=3 is 51\n",
      "Product of i=18 and const=3 is 54\n",
      "Product of i=19 and const=3 is 57\n"
     ]
    }
   ],
   "source": [
    "# Loop over an iterable object (e.g., a list or a range)\n",
    "x = 0\n",
    "ints_list = [ i for i in range(20) ]\n",
    "print(\"ints_list = \", ints_list, \"is a\", type(ints_list))\n",
    "const = 3  # a constant\n",
    "for i in ints_list:\n",
    "    x = i*const\n",
    "    print (\"Product of i={0} and const={1} is {2}\".format(i, const, x))"
   ]
  },
  {
   "cell_type": "markdown",
   "metadata": {},
   "source": [
    "### Prime Number\n",
    "\n",
    "A prime number is any integer greater than 1 that is only evenly divisible by itself and 1.  Wilson's Theorem can be used to determine primality:\n",
    "\n",
    "**Wilson's Theorem** states that:\n",
    "\n",
    "if ((n-1)!+1)%n=0, then n is a prime number.  The % symbol refers to the modulo operation, which is the remainder in division.  For example, 7/3 = 2 remainder 1, thus 7%3 = 1.  The ! symbol refers to the factorial operation, and can be invoked using the math library:\n",
    "\n",
    "import math\n",
    "n! = math.factorial(n)\n",
    "\n",
    "Using this information, in the space below, construct a for loop that will determine the primality of all integers in the following list:\n",
    "\n",
    "test_integers = [2, 3, 4, 5, 6, 7, 8, 9, 10, 11, 12, 13, 14, 15]\n",
    "\n",
    "The loop should print the number from the test_integers list if that integer is prime."
   ]
  },
  {
   "cell_type": "code",
   "execution_count": 4,
   "metadata": {},
   "outputs": [
    {
     "name": "stdout",
     "output_type": "stream",
     "text": [
      "number 2 is a prime number.\n",
      "number 3 is a prime number.\n",
      "number 4 is not a prime number.\n",
      "number 5 is a prime number.\n",
      "number 6 is not a prime number.\n",
      "number 7 is a prime number.\n",
      "number 8 is not a prime number.\n",
      "number 9 is not a prime number.\n",
      "number 10 is not a prime number.\n",
      "number 11 is a prime number.\n",
      "number 12 is not a prime number.\n",
      "number 13 is a prime number.\n",
      "number 14 is not a prime number.\n",
      "number 15 is not a prime number.\n"
     ]
    }
   ],
   "source": [
    "import math\n",
    "test_integers = [2, 3, 4, 5, 6, 7, 8, 9, 10, 11, 12, 13, 14, 15]\n",
    "for number in test_integers:\n",
    "    if(math.factorial(number-1)+1)%number == 0:\n",
    "        print(\"number {0} is a prime number.\".format(number))\n",
    "    else:\n",
    "        print(\"number {0} is not a prime number.\".format(number))        "
   ]
  },
  {
   "cell_type": "code",
   "execution_count": null,
   "metadata": {},
   "outputs": [],
   "source": []
  }
 ],
 "metadata": {
  "kernelspec": {
   "display_name": "Python 3",
   "language": "python",
   "name": "python3"
  },
  "language_info": {
   "codemirror_mode": {
    "name": "ipython",
    "version": 3
   },
   "file_extension": ".py",
   "mimetype": "text/x-python",
   "name": "python",
   "nbconvert_exporter": "python",
   "pygments_lexer": "ipython3",
   "version": "3.8.3"
  }
 },
 "nbformat": 4,
 "nbformat_minor": 4
}
