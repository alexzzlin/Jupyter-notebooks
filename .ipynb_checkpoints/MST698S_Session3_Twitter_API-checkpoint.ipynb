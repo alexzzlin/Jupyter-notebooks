{
 "cells": [
  {
   "cell_type": "markdown",
   "metadata": {},
   "source": [
    "## Data Science Tools and Techniques\n",
    "## Twitter API - Tweet Listener"
   ]
  },
  {
   "cell_type": "markdown",
   "metadata": {},
   "source": [
    "Import relevant libraries:"
   ]
  },
  {
   "cell_type": "code",
   "execution_count": null,
   "metadata": {
    "collapsed": true
   },
   "outputs": [],
   "source": [
    "from tweepy.streaming import StreamListener\n",
    "from tweepy import OAuthHandler\n",
    "from tweepy import Stream\n",
    "import time\n",
    "import json\n",
    "import os"
   ]
  },
  {
   "cell_type": "markdown",
   "metadata": {},
   "source": [
    "Set global path parameters:"
   ]
  },
  {
   "cell_type": "code",
   "execution_count": null,
   "metadata": {
    "collapsed": true
   },
   "outputs": [],
   "source": [
    "output_path = r''\n",
    "tweets_filename = r'tweets_file.json' #Requires *.json format\n",
    "\n",
    "#Complete file path\n",
    "tweepy_key_path = r''"
   ]
  },
  {
   "cell_type": "markdown",
   "metadata": {},
   "source": [
    "Set timeframe parameters and relevant classes and functions for listening:"
   ]
  },
  {
   "cell_type": "code",
   "execution_count": null,
   "metadata": {},
   "outputs": [],
   "source": [
    "#Define timeframe for listening (minutes)\n",
    "duration = 2\n",
    "\n",
    "#Set time parameters\n",
    "print('Listening for {0} minutes...'.format(duration))\n",
    "duration = duration*float(60)\n",
    "timeout_start = time.time()\n",
    "timeout = timeout_start + duration\n",
    "\n",
    "#Set listening parameters\n",
    "#Language codes for English\n",
    "Lang = ['en']\n",
    "    \n",
    "#Query values\n",
    "track = []"
   ]
  },
  {
   "cell_type": "code",
   "execution_count": null,
   "metadata": {
    "collapsed": true
   },
   "outputs": [],
   "source": [
    "#Define Basic listener class.\n",
    "class StdOutListener(StreamListener):\n",
    "    \n",
    "    def __init__(self):\n",
    "        self.tweets_data = []\n",
    "    \n",
    "    def on_data(self, data):\n",
    "        timecheck = time.time()\n",
    "        if timecheck < timeout:\n",
    "            all_data = json.loads(data)\n",
    "            print('[INFO] Heard a tweet!')\n",
    "            timecheck = time.time()\n",
    "            \n",
    "            self.tweets_data.append(all_data)\n",
    "        \n",
    "            return True\n",
    "        else:\n",
    "            return False\n",
    "\n",
    "    def on_error(self, status):\n",
    "        timecheck = time.time()\n",
    "        if timecheck < timeout:\n",
    "            print status\n",
    "        else:\n",
    "            return False"
   ]
  },
  {
   "cell_type": "code",
   "execution_count": null,
   "metadata": {
    "collapsed": true
   },
   "outputs": [],
   "source": [
    "#API object instantiation function.\n",
    "def api_instance(tweepy_key_path):\n",
    "    with open(tweepy_key_path, 'r') as key_file:\n",
    "        keys = json.load(key_file)\n",
    "    auth = OAuthHandler(keys['consumer_key'], keys['consumer_secret'])\n",
    "    auth.set_access_token(keys['access_token'], keys['access_token_secret'])\n",
    "    return auth"
   ]
  },
  {
   "cell_type": "markdown",
   "metadata": {},
   "source": [
    "Time to listen..."
   ]
  },
  {
   "cell_type": "code",
   "execution_count": null,
   "metadata": {},
   "outputs": [],
   "source": [
    "#Twitter authentication\n",
    "l = StdOutListener()\n",
    "auth = api_instance(tweepy_key_path)\n",
    "\n",
    "#Connection to Twitter Streaming API\n",
    "stream = Stream(auth, l)\n",
    "\n",
    "#Filter Twitter Streams to capture data filtered by the appropriate geosquare and languages.\n",
    "stream.filter(languages=Lang, track=track)\n",
    "\n",
    "tweets = l.tweets_data\n",
    "\n",
    "print('Total tweets collected: {0}').format(str(len(tweets)))"
   ]
  },
  {
   "cell_type": "markdown",
   "metadata": {},
   "source": [
    "Let's print a sample of tweets:"
   ]
  },
  {
   "cell_type": "code",
   "execution_count": null,
   "metadata": {},
   "outputs": [],
   "source": [
    "print(tweets[:10])"
   ]
  },
  {
   "cell_type": "markdown",
   "metadata": {},
   "source": [
    "Save tweets to JSON:"
   ]
  },
  {
   "cell_type": "code",
   "execution_count": null,
   "metadata": {},
   "outputs": [],
   "source": [
    "tweets_path = os.path.join(output_path, tweets_filename)\n",
    "with open(tweets_path, 'w') as tweets_file:\n",
    "    json.dump(tweets, tweets_file)\n",
    "\n",
    "print('Tweets JSON saved.')\n",
    "\n",
    "print('You are a great American!!')"
   ]
  },
  {
   "cell_type": "markdown",
   "metadata": {},
   "source": [
    "Now take a look at the tweets JSON file.  How would you parse this?"
   ]
  }
 ],
 "metadata": {
  "kernelspec": {
   "display_name": "Python 2",
   "language": "python",
   "name": "python2"
  },
  "language_info": {
   "codemirror_mode": {
    "name": "ipython",
    "version": 2
   },
   "file_extension": ".py",
   "mimetype": "text/x-python",
   "name": "python",
   "nbconvert_exporter": "python",
   "pygments_lexer": "ipython2",
   "version": "2.7.13"
  }
 },
 "nbformat": 4,
 "nbformat_minor": 2
}
